{
 "cells": [
  {
   "cell_type": "markdown",
   "metadata": {},
   "source": [
    "# Project 2 - Investigate a Dataset\n",
    "# Conflicts. No schooling and its relationship with deadly diseases in childhood."
   ]
  },
  {
   "cell_type": "markdown",
   "metadata": {},
   "source": [
    "## Table of Contents\n",
    "<ul>\n",
    "<li><a href=\"#intro\">Introduction</a></li>\n",
    "<li><a href=\"#wrangling\">Data Wrangling</a></li>\n",
    "<li><a href=\"#conclusions\">Conclusions</a></li>\n",
    "</ul>"
   ]
  },
  {
   "cell_type": "markdown",
   "metadata": {},
   "source": [
    "<a id='intro'></a>\n",
    "## Introduction\n",
    "> The purpose of this project is to try to discover childhood diseases that cause deaths in places where there is a lack of schooling due to military conflicts. In other words; how armed conflicts affect non-schooling and if there is a pattern in the diseases that derive from them.\n",
    "\n",
    "> I have divided this analysis into four main blocks or data set:\n",
    "> * Deaths due to conflicts.\n",
    "> * Lack of children's schooling.\n",
    "> * Main childhood diseases.\n",
    "> * Deaths from these diseases.\n",
    "\n",
    "> Later I will try to answer the following questions.\n",
    "> ### Questions:\n",
    "> <ul>\n",
    "> <li><a href=\"#1\">1. The 10 countries with the highest average of conflicts?</a></li>\n",
    "> <li><a href=\"#2\">2. How many children are not schooled because of conflicts?</a></li>\n",
    "> <li><a href=\"#3\">3. What diseases are due to the lack of schooling?</a></li>\n",
    "> </ul>"
   ]
  },
  {
   "cell_type": "code",
   "execution_count": 1,
   "metadata": {},
   "outputs": [],
   "source": [
    "# Import necesary libraries:\n",
    "import numpy as np\n",
    "import pandas as pd\n",
    "import matplotlib.pyplot as plt\n",
    "import seaborn as sns\n",
    "%matplotlib inline"
   ]
  },
  {
   "cell_type": "markdown",
   "metadata": {},
   "source": [
    "<a id='wrangling'></a>\n",
    "## Data Wrangling\n",
    "\n",
    "### General Properties\n",
    "#### Loading and cleaning data."
   ]
  },
  {
   "cell_type": "code",
   "execution_count": 2,
   "metadata": {},
   "outputs": [],
   "source": [
    "# Cargue sus datos e imprima unas pocas líneas. Realizar operaciones de inspección de datos.\n",
    "# tipos y busque instancias de datos faltantes o posiblemente errantes.\n",
    "\n",
    "# load and clean num dead in conflicts. Global.\n",
    "df_cfl = pd.read_csv('CONFLICTOS_num_de_muertes.csv')\n",
    "df_cfl = df_cfl.drop('Country Code', 1)\n",
    "df_cfl = df_cfl.drop_duplicates()\n",
    "# df_cfl.fillna(value=0, inplace=True)\n",
    "\n",
    "# niños sin escolarizar primaria\n",
    "df_esc = pd.read_csv('ESCOLARIZACION_tasa_alfabetizacion_jovenes.csv')\n",
    "df_esc.drop_duplicates()\n",
    "# df_esc.fillna(value=0, inplace=True)\n",
    "\n",
    "# Muertes por enfermedad\n",
    "df_M_dia = pd.read_csv('M_diarrhoeal_deaths_in_children_1_59_months_total_deaths.csv') \n",
    "df_M_dia.dropna()\n",
    "df_M_dia.drop_duplicates()\n",
    "df_M_dia.fillna(value=0, inplace=True)\n",
    "# hiv\n",
    "df_M_hiv = pd.read_csv('M_hiv_deaths_in_children_1_59_months_total_deaths.csv') \n",
    "df_M_hiv.dropna()\n",
    "df_M_hiv.drop_duplicates()\n",
    "df_M_hiv.fillna(value=0, inplace=True)\n",
    "# malaria\n",
    "df_M_mal = pd.read_csv('M_malaria_deaths_in_children_1_59_months_total_deaths.csv') \n",
    "df_M_mal.dropna()\n",
    "df_M_mal.drop_duplicates()\n",
    "df_M_mal.fillna(value=0, inplace=True)\n",
    "# measles\n",
    "df_M_mea = pd.read_csv('M_measles_deaths_in_children_1_59_months_total_deaths.csv')\n",
    "df_M_mea.dropna()\n",
    "df_M_mea.drop_duplicates()\n",
    "df_M_mea.fillna(value=0, inplace=True)\n",
    "# meningitis\n",
    "df_M_men = pd.read_csv('M_meningitis_deaths_in_children_1_59_months_total_deaths.csv')\n",
    "df_M_men.dropna()\n",
    "df_M_men.drop_duplicates()\n",
    "df_M_men.fillna(value=0, inplace=True)\n",
    "# ncd\n",
    "df_M_ncd = pd.read_csv('M_ncd_deaths_in_children_1_59_months_total_deaths.csv')\n",
    "df_M_ncd.dropna()\n",
    "df_M_ncd.drop_duplicates()\n",
    "df_M_ncd.fillna(value=0, inplace=True)\n",
    "# other_infections\n",
    "df_M_oth = pd.read_csv('M_other_infections_deaths_in_children_1_59_months_total_deaths.csv')\n",
    "df_M_oth.dropna()\n",
    "df_M_oth.drop_duplicates()\n",
    "df_M_oth.fillna(value=0, inplace=True)\n",
    "# pertussis\n",
    "df_M_per = pd.read_csv('M_pertussis_deaths_in_children_1_59_months_total_deaths.csv')\n",
    "df_M_per.dropna()\n",
    "df_M_per.drop_duplicates()\n",
    "df_M_per.fillna(value=0, inplace=True)\n",
    "# pneumonia\n",
    "df_M_neu = pd.read_csv('M_pneumonia_deaths_in_children_1_59_months_total_deaths.csv')\n",
    "df_M_neu.dropna()\n",
    "df_M_neu.drop_duplicates()\n",
    "df_M_neu.fillna(value=0, inplace=True)\n",
    "\n",
    "# Muertes por enfermedades en niños\n",
    "df_M_rate = pd.read_csv('M_provabilidad_de_muerte_ninos_5_14_x_1000.csv')\n",
    "df_M_rate.dropna()\n",
    "df_M_rate.drop_duplicates()\n",
    "df_M_rate.fillna(value=0, inplace=True)\n",
    "\n",
    "df_M_boy = pd.read_csv('M_ninos_0_5_por_1000_nacimientos.csv')\n",
    "df_M_boy.dropna()\n",
    "df_M_boy.drop_duplicates()\n",
    "df_M_boy.fillna(value=0, inplace=True)\n",
    "\n",
    "df_M_child = pd.read_csv('M_child_mortality_0_5_x_1000_born.csv')\n",
    "df_M_child.dropna()\n",
    "df_M_child.drop_duplicates()\n",
    "df_M_child.fillna(value=0, inplace=True)"
   ]
  },
  {
   "cell_type": "markdown",
   "metadata": {},
   "source": [
    "#### Refinement\n",
    "We just want to stay with 3 columns: country, year and value.\n",
    "\n",
    "### CONFLICTS."
   ]
  },
  {
   "cell_type": "code",
   "execution_count": 3,
   "metadata": {
    "scrolled": false
   },
   "outputs": [
    {
     "data": {
      "text/html": [
       "<div>\n",
       "<style scoped>\n",
       "    .dataframe tbody tr th:only-of-type {\n",
       "        vertical-align: middle;\n",
       "    }\n",
       "\n",
       "    .dataframe tbody tr th {\n",
       "        vertical-align: top;\n",
       "    }\n",
       "\n",
       "    .dataframe thead th {\n",
       "        text-align: right;\n",
       "    }\n",
       "</style>\n",
       "<table border=\"1\" class=\"dataframe\">\n",
       "  <thead>\n",
       "    <tr style=\"text-align: right;\">\n",
       "      <th></th>\n",
       "      <th>country</th>\n",
       "      <th>1989</th>\n",
       "      <th>1990</th>\n",
       "      <th>1991</th>\n",
       "      <th>1992</th>\n",
       "      <th>1993</th>\n",
       "      <th>1994</th>\n",
       "      <th>1995</th>\n",
       "      <th>1996</th>\n",
       "      <th>1997</th>\n",
       "      <th>...</th>\n",
       "      <th>2008</th>\n",
       "      <th>2009</th>\n",
       "      <th>2010</th>\n",
       "      <th>2011</th>\n",
       "      <th>2012</th>\n",
       "      <th>2013</th>\n",
       "      <th>2014</th>\n",
       "      <th>2015</th>\n",
       "      <th>2016</th>\n",
       "      <th>2017</th>\n",
       "    </tr>\n",
       "  </thead>\n",
       "  <tbody>\n",
       "    <tr>\n",
       "      <th>0</th>\n",
       "      <td>Aruba</td>\n",
       "      <td>NaN</td>\n",
       "      <td>NaN</td>\n",
       "      <td>NaN</td>\n",
       "      <td>NaN</td>\n",
       "      <td>NaN</td>\n",
       "      <td>NaN</td>\n",
       "      <td>NaN</td>\n",
       "      <td>NaN</td>\n",
       "      <td>NaN</td>\n",
       "      <td>...</td>\n",
       "      <td>NaN</td>\n",
       "      <td>NaN</td>\n",
       "      <td>NaN</td>\n",
       "      <td>NaN</td>\n",
       "      <td>NaN</td>\n",
       "      <td>NaN</td>\n",
       "      <td>NaN</td>\n",
       "      <td>NaN</td>\n",
       "      <td>NaN</td>\n",
       "      <td>NaN</td>\n",
       "    </tr>\n",
       "    <tr>\n",
       "      <th>1</th>\n",
       "      <td>Afghanistan</td>\n",
       "      <td>5174.0</td>\n",
       "      <td>1478.0</td>\n",
       "      <td>3302.0</td>\n",
       "      <td>4276.0</td>\n",
       "      <td>4071.0</td>\n",
       "      <td>8937.0</td>\n",
       "      <td>5499.0</td>\n",
       "      <td>3177.0</td>\n",
       "      <td>6396.0</td>\n",
       "      <td>...</td>\n",
       "      <td>5552.0</td>\n",
       "      <td>6341.0</td>\n",
       "      <td>6864.0</td>\n",
       "      <td>7405.0</td>\n",
       "      <td>7719.0</td>\n",
       "      <td>8056.0</td>\n",
       "      <td>12285.0</td>\n",
       "      <td>17273.0</td>\n",
       "      <td>17981.0</td>\n",
       "      <td>18950.0</td>\n",
       "    </tr>\n",
       "  </tbody>\n",
       "</table>\n",
       "<p>2 rows × 30 columns</p>\n",
       "</div>"
      ],
      "text/plain": [
       "       country    1989    1990    1991    1992    1993    1994    1995  \\\n",
       "0        Aruba     NaN     NaN     NaN     NaN     NaN     NaN     NaN   \n",
       "1  Afghanistan  5174.0  1478.0  3302.0  4276.0  4071.0  8937.0  5499.0   \n",
       "\n",
       "     1996    1997   ...       2008    2009    2010    2011    2012    2013  \\\n",
       "0     NaN     NaN   ...        NaN     NaN     NaN     NaN     NaN     NaN   \n",
       "1  3177.0  6396.0   ...     5552.0  6341.0  6864.0  7405.0  7719.0  8056.0   \n",
       "\n",
       "      2014     2015     2016     2017  \n",
       "0      NaN      NaN      NaN      NaN  \n",
       "1  12285.0  17273.0  17981.0  18950.0  \n",
       "\n",
       "[2 rows x 30 columns]"
      ]
     },
     "execution_count": 3,
     "metadata": {},
     "output_type": "execute_result"
    }
   ],
   "source": [
    "# The 'Country Name' column we rename\n",
    "df_cfl=df_cfl.rename(columns={'Country Name':'country'})\n",
    "df_cfl.head(2)"
   ]
  },
  {
   "cell_type": "markdown",
   "metadata": {},
   "source": [
    "#### UNPIVOT."
   ]
  },
  {
   "cell_type": "code",
   "execution_count": 4,
   "metadata": {
    "scrolled": false
   },
   "outputs": [],
   "source": [
    "# Unpivot the dS, rename columns, change the data type and clear more deads in conflicts\n",
    "df_cfl=df_cfl.set_index('country').stack().reset_index()\n",
    "df_cfl=df_cfl.rename(columns={'level_1':'year', 0:'dead'})\n",
    "df_cfl[['dead']]=df_cfl[['dead']].astype(int)\n",
    "df_cfl.dropna(inplace = True)"
   ]
  },
  {
   "cell_type": "code",
   "execution_count": 5,
   "metadata": {},
   "outputs": [
    {
     "data": {
      "text/html": [
       "<div>\n",
       "<style scoped>\n",
       "    .dataframe tbody tr th:only-of-type {\n",
       "        vertical-align: middle;\n",
       "    }\n",
       "\n",
       "    .dataframe tbody tr th {\n",
       "        vertical-align: top;\n",
       "    }\n",
       "\n",
       "    .dataframe thead th {\n",
       "        text-align: right;\n",
       "    }\n",
       "</style>\n",
       "<table border=\"1\" class=\"dataframe\">\n",
       "  <thead>\n",
       "    <tr style=\"text-align: right;\">\n",
       "      <th></th>\n",
       "      <th>country</th>\n",
       "      <th>year</th>\n",
       "      <th>dead</th>\n",
       "    </tr>\n",
       "  </thead>\n",
       "  <tbody>\n",
       "    <tr>\n",
       "      <th>0</th>\n",
       "      <td>Afghanistan</td>\n",
       "      <td>1989</td>\n",
       "      <td>5174</td>\n",
       "    </tr>\n",
       "    <tr>\n",
       "      <th>1</th>\n",
       "      <td>Afghanistan</td>\n",
       "      <td>1990</td>\n",
       "      <td>1478</td>\n",
       "    </tr>\n",
       "  </tbody>\n",
       "</table>\n",
       "</div>"
      ],
      "text/plain": [
       "       country  year  dead\n",
       "0  Afghanistan  1989  5174\n",
       "1  Afghanistan  1990  1478"
      ]
     },
     "execution_count": 5,
     "metadata": {},
     "output_type": "execute_result"
    }
   ],
   "source": [
    "df_cfl.head(2)"
   ]
  },
  {
   "cell_type": "markdown",
   "metadata": {},
   "source": [
    "CHILDREN WITHOUT SCHOOLING."
   ]
  },
  {
   "cell_type": "code",
   "execution_count": 6,
   "metadata": {},
   "outputs": [
    {
     "data": {
      "text/html": [
       "<div>\n",
       "<style scoped>\n",
       "    .dataframe tbody tr th:only-of-type {\n",
       "        vertical-align: middle;\n",
       "    }\n",
       "\n",
       "    .dataframe tbody tr th {\n",
       "        vertical-align: top;\n",
       "    }\n",
       "\n",
       "    .dataframe thead th {\n",
       "        text-align: right;\n",
       "    }\n",
       "</style>\n",
       "<table border=\"1\" class=\"dataframe\">\n",
       "  <thead>\n",
       "    <tr style=\"text-align: right;\">\n",
       "      <th></th>\n",
       "      <th>country</th>\n",
       "      <th>1975</th>\n",
       "      <th>1976</th>\n",
       "      <th>1977</th>\n",
       "      <th>1978</th>\n",
       "      <th>1979</th>\n",
       "      <th>1980</th>\n",
       "      <th>1981</th>\n",
       "      <th>1982</th>\n",
       "      <th>1983</th>\n",
       "      <th>...</th>\n",
       "      <th>2002</th>\n",
       "      <th>2003</th>\n",
       "      <th>2004</th>\n",
       "      <th>2005</th>\n",
       "      <th>2006</th>\n",
       "      <th>2007</th>\n",
       "      <th>2008</th>\n",
       "      <th>2009</th>\n",
       "      <th>2010</th>\n",
       "      <th>2011</th>\n",
       "    </tr>\n",
       "  </thead>\n",
       "  <tbody>\n",
       "    <tr>\n",
       "      <th>0</th>\n",
       "      <td>Afghanistan</td>\n",
       "      <td>NaN</td>\n",
       "      <td>NaN</td>\n",
       "      <td>NaN</td>\n",
       "      <td>NaN</td>\n",
       "      <td>30,1</td>\n",
       "      <td>NaN</td>\n",
       "      <td>NaN</td>\n",
       "      <td>NaN</td>\n",
       "      <td>NaN</td>\n",
       "      <td>...</td>\n",
       "      <td>NaN</td>\n",
       "      <td>NaN</td>\n",
       "      <td>NaN</td>\n",
       "      <td>NaN</td>\n",
       "      <td>NaN</td>\n",
       "      <td>NaN</td>\n",
       "      <td>NaN</td>\n",
       "      <td>NaN</td>\n",
       "      <td>NaN</td>\n",
       "      <td>NaN</td>\n",
       "    </tr>\n",
       "    <tr>\n",
       "      <th>1</th>\n",
       "      <td>Albania</td>\n",
       "      <td>NaN</td>\n",
       "      <td>NaN</td>\n",
       "      <td>NaN</td>\n",
       "      <td>NaN</td>\n",
       "      <td>NaN</td>\n",
       "      <td>NaN</td>\n",
       "      <td>NaN</td>\n",
       "      <td>NaN</td>\n",
       "      <td>NaN</td>\n",
       "      <td>...</td>\n",
       "      <td>NaN</td>\n",
       "      <td>NaN</td>\n",
       "      <td>NaN</td>\n",
       "      <td>NaN</td>\n",
       "      <td>NaN</td>\n",
       "      <td>NaN</td>\n",
       "      <td>98,8</td>\n",
       "      <td>NaN</td>\n",
       "      <td>NaN</td>\n",
       "      <td>98,8</td>\n",
       "    </tr>\n",
       "  </tbody>\n",
       "</table>\n",
       "<p>2 rows × 38 columns</p>\n",
       "</div>"
      ],
      "text/plain": [
       "       country 1975 1976 1977 1978  1979 1980 1981 1982 1983  ...  2002 2003  \\\n",
       "0  Afghanistan  NaN  NaN  NaN  NaN  30,1  NaN  NaN  NaN  NaN  ...   NaN  NaN   \n",
       "1      Albania  NaN  NaN  NaN  NaN   NaN  NaN  NaN  NaN  NaN  ...   NaN  NaN   \n",
       "\n",
       "  2004 2005 2006 2007  2008 2009 2010  2011  \n",
       "0  NaN  NaN  NaN  NaN   NaN  NaN  NaN   NaN  \n",
       "1  NaN  NaN  NaN  NaN  98,8  NaN  NaN  98,8  \n",
       "\n",
       "[2 rows x 38 columns]"
      ]
     },
     "execution_count": 6,
     "metadata": {},
     "output_type": "execute_result"
    }
   ],
   "source": [
    "df_esc.head(2)"
   ]
  },
  {
   "cell_type": "code",
   "execution_count": 7,
   "metadata": {},
   "outputs": [],
   "source": [
    "# Unpivot the dS, rename columns, change the data type and clear more deads in conflicts\n",
    "df_esc=df_esc.set_index('country').stack().reset_index()\n",
    "df_esc=df_esc.rename(columns={'level_1':'year', 0:'dead'})\n",
    "# df_esc[['dead']]=df_esc[['dead']].astype(int)\n",
    "df_esc.dropna(inplace = True)"
   ]
  },
  {
   "cell_type": "code",
   "execution_count": 8,
   "metadata": {
    "scrolled": true
   },
   "outputs": [
    {
     "data": {
      "text/html": [
       "<div>\n",
       "<style scoped>\n",
       "    .dataframe tbody tr th:only-of-type {\n",
       "        vertical-align: middle;\n",
       "    }\n",
       "\n",
       "    .dataframe tbody tr th {\n",
       "        vertical-align: top;\n",
       "    }\n",
       "\n",
       "    .dataframe thead th {\n",
       "        text-align: right;\n",
       "    }\n",
       "</style>\n",
       "<table border=\"1\" class=\"dataframe\">\n",
       "  <thead>\n",
       "    <tr style=\"text-align: right;\">\n",
       "      <th></th>\n",
       "      <th>country</th>\n",
       "      <th>year</th>\n",
       "      <th>dead</th>\n",
       "    </tr>\n",
       "  </thead>\n",
       "  <tbody>\n",
       "    <tr>\n",
       "      <th>0</th>\n",
       "      <td>Afghanistan</td>\n",
       "      <td>1979</td>\n",
       "      <td>30,1</td>\n",
       "    </tr>\n",
       "    <tr>\n",
       "      <th>1</th>\n",
       "      <td>Albania</td>\n",
       "      <td>2001</td>\n",
       "      <td>99,4</td>\n",
       "    </tr>\n",
       "  </tbody>\n",
       "</table>\n",
       "</div>"
      ],
      "text/plain": [
       "       country  year  dead\n",
       "0  Afghanistan  1979  30,1\n",
       "1      Albania  2001  99,4"
      ]
     },
     "execution_count": 8,
     "metadata": {},
     "output_type": "execute_result"
    }
   ],
   "source": [
    "# This df_esc now is OK. CHILDREN WITHOUT SCHOOL\n",
    "df_esc.head(2)"
   ]
  },
  {
   "cell_type": "markdown",
   "metadata": {},
   "source": [
    "## merge join conflicts with eschooling"
   ]
  },
  {
   "cell_type": "code",
   "execution_count": 9,
   "metadata": {},
   "outputs": [],
   "source": [
    "df_combined = df_cfl.merge(df_esc, left_on=['country', 'year'], right_on=['country', 'year'], how='inner')"
   ]
  },
  {
   "cell_type": "code",
   "execution_count": 10,
   "metadata": {},
   "outputs": [
    {
     "data": {
      "text/html": [
       "<div>\n",
       "<style scoped>\n",
       "    .dataframe tbody tr th:only-of-type {\n",
       "        vertical-align: middle;\n",
       "    }\n",
       "\n",
       "    .dataframe tbody tr th {\n",
       "        vertical-align: top;\n",
       "    }\n",
       "\n",
       "    .dataframe thead th {\n",
       "        text-align: right;\n",
       "    }\n",
       "</style>\n",
       "<table border=\"1\" class=\"dataframe\">\n",
       "  <thead>\n",
       "    <tr style=\"text-align: right;\">\n",
       "      <th></th>\n",
       "      <th>country</th>\n",
       "      <th>year</th>\n",
       "      <th>dead_cfl</th>\n",
       "      <th>no_school</th>\n",
       "    </tr>\n",
       "  </thead>\n",
       "  <tbody>\n",
       "    <tr>\n",
       "      <th>0</th>\n",
       "      <td>Angola</td>\n",
       "      <td>2001</td>\n",
       "      <td>1123</td>\n",
       "      <td>72,2</td>\n",
       "    </tr>\n",
       "    <tr>\n",
       "      <th>1</th>\n",
       "      <td>Burundi</td>\n",
       "      <td>2000</td>\n",
       "      <td>1348</td>\n",
       "      <td>73,3</td>\n",
       "    </tr>\n",
       "  </tbody>\n",
       "</table>\n",
       "</div>"
      ],
      "text/plain": [
       "   country  year  dead_cfl no_school\n",
       "0   Angola  2001      1123      72,2\n",
       "1  Burundi  2000      1348      73,3"
      ]
     },
     "execution_count": 10,
     "metadata": {},
     "output_type": "execute_result"
    }
   ],
   "source": [
    "df_combined = df_combined.rename(columns={'dead_x':'dead_cfl','dead_y':'no_school'})\n",
    "df_combined.head(2)"
   ]
  },
  {
   "cell_type": "markdown",
   "metadata": {},
   "source": [
    "#### CHILDHOOD ILLNESSES\n",
    "DEATHS FOR DIARRHEA"
   ]
  },
  {
   "cell_type": "code",
   "execution_count": 11,
   "metadata": {},
   "outputs": [
    {
     "data": {
      "text/html": [
       "<div>\n",
       "<style scoped>\n",
       "    .dataframe tbody tr th:only-of-type {\n",
       "        vertical-align: middle;\n",
       "    }\n",
       "\n",
       "    .dataframe tbody tr th {\n",
       "        vertical-align: top;\n",
       "    }\n",
       "\n",
       "    .dataframe thead th {\n",
       "        text-align: right;\n",
       "    }\n",
       "</style>\n",
       "<table border=\"1\" class=\"dataframe\">\n",
       "  <thead>\n",
       "    <tr style=\"text-align: right;\">\n",
       "      <th></th>\n",
       "      <th>country</th>\n",
       "      <th>2008</th>\n",
       "    </tr>\n",
       "  </thead>\n",
       "  <tbody>\n",
       "    <tr>\n",
       "      <th>0</th>\n",
       "      <td>Afghanistan</td>\n",
       "      <td>88200</td>\n",
       "    </tr>\n",
       "    <tr>\n",
       "      <th>1</th>\n",
       "      <td>Albania</td>\n",
       "      <td>12</td>\n",
       "    </tr>\n",
       "  </tbody>\n",
       "</table>\n",
       "</div>"
      ],
      "text/plain": [
       "       country   2008\n",
       "0  Afghanistan  88200\n",
       "1      Albania     12"
      ]
     },
     "execution_count": 11,
     "metadata": {},
     "output_type": "execute_result"
    }
   ],
   "source": [
    "df_M_dia.head(2)"
   ]
  },
  {
   "cell_type": "markdown",
   "metadata": {},
   "source": [
    "Exclude deaths due to diarrhea due to lack of data. Only to seem in the 2008 source"
   ]
  },
  {
   "cell_type": "markdown",
   "metadata": {},
   "source": [
    "DEATHS FOR HIV"
   ]
  },
  {
   "cell_type": "code",
   "execution_count": 12,
   "metadata": {},
   "outputs": [
    {
     "data": {
      "text/html": [
       "<div>\n",
       "<style scoped>\n",
       "    .dataframe tbody tr th:only-of-type {\n",
       "        vertical-align: middle;\n",
       "    }\n",
       "\n",
       "    .dataframe tbody tr th {\n",
       "        vertical-align: top;\n",
       "    }\n",
       "\n",
       "    .dataframe thead th {\n",
       "        text-align: right;\n",
       "    }\n",
       "</style>\n",
       "<table border=\"1\" class=\"dataframe\">\n",
       "  <thead>\n",
       "    <tr style=\"text-align: right;\">\n",
       "      <th></th>\n",
       "      <th>country</th>\n",
       "      <th>1990</th>\n",
       "      <th>1991</th>\n",
       "      <th>1992</th>\n",
       "      <th>1993</th>\n",
       "      <th>1994</th>\n",
       "      <th>1995</th>\n",
       "      <th>1996</th>\n",
       "      <th>1997</th>\n",
       "      <th>1998</th>\n",
       "      <th>...</th>\n",
       "      <th>2007</th>\n",
       "      <th>2008</th>\n",
       "      <th>2009</th>\n",
       "      <th>2010</th>\n",
       "      <th>2011</th>\n",
       "      <th>2012</th>\n",
       "      <th>2013</th>\n",
       "      <th>2014</th>\n",
       "      <th>2015</th>\n",
       "      <th>2016</th>\n",
       "    </tr>\n",
       "  </thead>\n",
       "  <tbody>\n",
       "    <tr>\n",
       "      <th>0</th>\n",
       "      <td>Afghanistan</td>\n",
       "      <td>1.2400</td>\n",
       "      <td>1.3800</td>\n",
       "      <td>1.5300</td>\n",
       "      <td>1.690</td>\n",
       "      <td>1.8700</td>\n",
       "      <td>2.0600</td>\n",
       "      <td>2.260</td>\n",
       "      <td>2.4600</td>\n",
       "      <td>2.6500</td>\n",
       "      <td>...</td>\n",
       "      <td>5.1200</td>\n",
       "      <td>5.5600</td>\n",
       "      <td>5.9100</td>\n",
       "      <td>6.2600</td>\n",
       "      <td>6.69000</td>\n",
       "      <td>7.410</td>\n",
       "      <td>8.22000</td>\n",
       "      <td>9.21000</td>\n",
       "      <td>10.60000</td>\n",
       "      <td>10.80000</td>\n",
       "    </tr>\n",
       "    <tr>\n",
       "      <th>1</th>\n",
       "      <td>Albania</td>\n",
       "      <td>0.0691</td>\n",
       "      <td>0.0749</td>\n",
       "      <td>0.0802</td>\n",
       "      <td>0.065</td>\n",
       "      <td>0.0518</td>\n",
       "      <td>0.0477</td>\n",
       "      <td>0.042</td>\n",
       "      <td>0.0356</td>\n",
       "      <td>0.0334</td>\n",
       "      <td>...</td>\n",
       "      <td>0.0244</td>\n",
       "      <td>0.0197</td>\n",
       "      <td>0.0157</td>\n",
       "      <td>0.0112</td>\n",
       "      <td>0.00873</td>\n",
       "      <td>0.008</td>\n",
       "      <td>0.00784</td>\n",
       "      <td>0.00793</td>\n",
       "      <td>0.00807</td>\n",
       "      <td>0.00822</td>\n",
       "    </tr>\n",
       "  </tbody>\n",
       "</table>\n",
       "<p>2 rows × 28 columns</p>\n",
       "</div>"
      ],
      "text/plain": [
       "       country    1990    1991    1992   1993    1994    1995   1996    1997  \\\n",
       "0  Afghanistan  1.2400  1.3800  1.5300  1.690  1.8700  2.0600  2.260  2.4600   \n",
       "1      Albania  0.0691  0.0749  0.0802  0.065  0.0518  0.0477  0.042  0.0356   \n",
       "\n",
       "     1998    ...       2007    2008    2009    2010     2011   2012     2013  \\\n",
       "0  2.6500    ...     5.1200  5.5600  5.9100  6.2600  6.69000  7.410  8.22000   \n",
       "1  0.0334    ...     0.0244  0.0197  0.0157  0.0112  0.00873  0.008  0.00784   \n",
       "\n",
       "      2014      2015      2016  \n",
       "0  9.21000  10.60000  10.80000  \n",
       "1  0.00793   0.00807   0.00822  \n",
       "\n",
       "[2 rows x 28 columns]"
      ]
     },
     "execution_count": 12,
     "metadata": {},
     "output_type": "execute_result"
    }
   ],
   "source": [
    "df_M_hiv.head(2)"
   ]
  },
  {
   "cell_type": "code",
   "execution_count": 13,
   "metadata": {
    "scrolled": true
   },
   "outputs": [],
   "source": [
    "# Unpivot the df, rename columns, change the data type and clear more \n",
    "df_M_hiv=df_M_hiv.set_index('country').stack().reset_index()\n",
    "df_M_hiv=df_M_hiv.rename(columns={'level_1':'year', 0:'dead'})\n",
    "# df_M_hiv[['dead']]=df_M_hiv[['dead']].astype(int)\n",
    "df_M_hiv.dropna(inplace = True)"
   ]
  },
  {
   "cell_type": "code",
   "execution_count": 14,
   "metadata": {},
   "outputs": [
    {
     "data": {
      "text/html": [
       "<div>\n",
       "<style scoped>\n",
       "    .dataframe tbody tr th:only-of-type {\n",
       "        vertical-align: middle;\n",
       "    }\n",
       "\n",
       "    .dataframe tbody tr th {\n",
       "        vertical-align: top;\n",
       "    }\n",
       "\n",
       "    .dataframe thead th {\n",
       "        text-align: right;\n",
       "    }\n",
       "</style>\n",
       "<table border=\"1\" class=\"dataframe\">\n",
       "  <thead>\n",
       "    <tr style=\"text-align: right;\">\n",
       "      <th></th>\n",
       "      <th>country</th>\n",
       "      <th>year</th>\n",
       "      <th>dead_cfl</th>\n",
       "      <th>no_school</th>\n",
       "      <th>hiv</th>\n",
       "    </tr>\n",
       "  </thead>\n",
       "  <tbody>\n",
       "    <tr>\n",
       "      <th>0</th>\n",
       "      <td>Angola</td>\n",
       "      <td>2001</td>\n",
       "      <td>1123</td>\n",
       "      <td>72,2</td>\n",
       "      <td>887.0</td>\n",
       "    </tr>\n",
       "    <tr>\n",
       "      <th>1</th>\n",
       "      <td>Burundi</td>\n",
       "      <td>2000</td>\n",
       "      <td>1348</td>\n",
       "      <td>73,3</td>\n",
       "      <td>998.0</td>\n",
       "    </tr>\n",
       "  </tbody>\n",
       "</table>\n",
       "</div>"
      ],
      "text/plain": [
       "   country  year  dead_cfl no_school    hiv\n",
       "0   Angola  2001      1123      72,2  887.0\n",
       "1  Burundi  2000      1348      73,3  998.0"
      ]
     },
     "execution_count": 14,
     "metadata": {},
     "output_type": "execute_result"
    }
   ],
   "source": [
    "df_combined = df_combined.merge(df_M_hiv, left_on=['country', 'year'], right_on=['country', 'year'], how='inner')\n",
    "df_combined = df_combined.rename(columns={'dead':'hiv'})\n",
    "df_combined.head(2)"
   ]
  },
  {
   "cell_type": "markdown",
   "metadata": {},
   "source": [
    "DEATHS FOR MALARIA"
   ]
  },
  {
   "cell_type": "code",
   "execution_count": 15,
   "metadata": {},
   "outputs": [
    {
     "data": {
      "text/html": [
       "<div>\n",
       "<style scoped>\n",
       "    .dataframe tbody tr th:only-of-type {\n",
       "        vertical-align: middle;\n",
       "    }\n",
       "\n",
       "    .dataframe tbody tr th {\n",
       "        vertical-align: top;\n",
       "    }\n",
       "\n",
       "    .dataframe thead th {\n",
       "        text-align: right;\n",
       "    }\n",
       "</style>\n",
       "<table border=\"1\" class=\"dataframe\">\n",
       "  <thead>\n",
       "    <tr style=\"text-align: right;\">\n",
       "      <th></th>\n",
       "      <th>country</th>\n",
       "      <th>1990</th>\n",
       "      <th>1991</th>\n",
       "      <th>1992</th>\n",
       "      <th>1993</th>\n",
       "      <th>1994</th>\n",
       "      <th>1995</th>\n",
       "      <th>1996</th>\n",
       "      <th>1997</th>\n",
       "      <th>1998</th>\n",
       "      <th>...</th>\n",
       "      <th>2007</th>\n",
       "      <th>2008</th>\n",
       "      <th>2009</th>\n",
       "      <th>2010</th>\n",
       "      <th>2011</th>\n",
       "      <th>2012</th>\n",
       "      <th>2013</th>\n",
       "      <th>2014</th>\n",
       "      <th>2015</th>\n",
       "      <th>2016</th>\n",
       "    </tr>\n",
       "  </thead>\n",
       "  <tbody>\n",
       "    <tr>\n",
       "      <th>0</th>\n",
       "      <td>Afghanistan</td>\n",
       "      <td>185.0</td>\n",
       "      <td>192.0</td>\n",
       "      <td>197.0</td>\n",
       "      <td>207.0</td>\n",
       "      <td>226.0</td>\n",
       "      <td>236.0</td>\n",
       "      <td>251.0</td>\n",
       "      <td>258.0</td>\n",
       "      <td>273.0</td>\n",
       "      <td>...</td>\n",
       "      <td>441.0</td>\n",
       "      <td>414.0</td>\n",
       "      <td>384.0</td>\n",
       "      <td>272.0</td>\n",
       "      <td>218.0</td>\n",
       "      <td>209.0</td>\n",
       "      <td>337.0</td>\n",
       "      <td>372.0</td>\n",
       "      <td>394.0</td>\n",
       "      <td>410.0</td>\n",
       "    </tr>\n",
       "    <tr>\n",
       "      <th>1</th>\n",
       "      <td>Albania</td>\n",
       "      <td>0.0</td>\n",
       "      <td>0.0</td>\n",
       "      <td>0.0</td>\n",
       "      <td>0.0</td>\n",
       "      <td>0.0</td>\n",
       "      <td>0.0</td>\n",
       "      <td>0.0</td>\n",
       "      <td>0.0</td>\n",
       "      <td>0.0</td>\n",
       "      <td>...</td>\n",
       "      <td>0.0</td>\n",
       "      <td>0.0</td>\n",
       "      <td>0.0</td>\n",
       "      <td>0.0</td>\n",
       "      <td>0.0</td>\n",
       "      <td>0.0</td>\n",
       "      <td>0.0</td>\n",
       "      <td>0.0</td>\n",
       "      <td>0.0</td>\n",
       "      <td>0.0</td>\n",
       "    </tr>\n",
       "  </tbody>\n",
       "</table>\n",
       "<p>2 rows × 28 columns</p>\n",
       "</div>"
      ],
      "text/plain": [
       "       country   1990   1991   1992   1993   1994   1995   1996   1997   1998  \\\n",
       "0  Afghanistan  185.0  192.0  197.0  207.0  226.0  236.0  251.0  258.0  273.0   \n",
       "1      Albania    0.0    0.0    0.0    0.0    0.0    0.0    0.0    0.0    0.0   \n",
       "\n",
       "   ...     2007   2008   2009   2010   2011   2012   2013   2014   2015   2016  \n",
       "0  ...    441.0  414.0  384.0  272.0  218.0  209.0  337.0  372.0  394.0  410.0  \n",
       "1  ...      0.0    0.0    0.0    0.0    0.0    0.0    0.0    0.0    0.0    0.0  \n",
       "\n",
       "[2 rows x 28 columns]"
      ]
     },
     "execution_count": 15,
     "metadata": {},
     "output_type": "execute_result"
    }
   ],
   "source": [
    "df_M_mal.head(2)"
   ]
  },
  {
   "cell_type": "code",
   "execution_count": 16,
   "metadata": {
    "scrolled": true
   },
   "outputs": [
    {
     "data": {
      "text/html": [
       "<div>\n",
       "<style scoped>\n",
       "    .dataframe tbody tr th:only-of-type {\n",
       "        vertical-align: middle;\n",
       "    }\n",
       "\n",
       "    .dataframe tbody tr th {\n",
       "        vertical-align: top;\n",
       "    }\n",
       "\n",
       "    .dataframe thead th {\n",
       "        text-align: right;\n",
       "    }\n",
       "</style>\n",
       "<table border=\"1\" class=\"dataframe\">\n",
       "  <thead>\n",
       "    <tr style=\"text-align: right;\">\n",
       "      <th></th>\n",
       "      <th>country</th>\n",
       "      <th>year</th>\n",
       "      <th>dead</th>\n",
       "    </tr>\n",
       "  </thead>\n",
       "  <tbody>\n",
       "    <tr>\n",
       "      <th>0</th>\n",
       "      <td>Afghanistan</td>\n",
       "      <td>1990</td>\n",
       "      <td>185</td>\n",
       "    </tr>\n",
       "    <tr>\n",
       "      <th>1</th>\n",
       "      <td>Afghanistan</td>\n",
       "      <td>1991</td>\n",
       "      <td>192</td>\n",
       "    </tr>\n",
       "  </tbody>\n",
       "</table>\n",
       "</div>"
      ],
      "text/plain": [
       "       country  year  dead\n",
       "0  Afghanistan  1990   185\n",
       "1  Afghanistan  1991   192"
      ]
     },
     "execution_count": 16,
     "metadata": {},
     "output_type": "execute_result"
    }
   ],
   "source": [
    "# Unpivot the df, rename columns, change the data type and clear more \n",
    "df_M_mal=df_M_mal.set_index('country').stack().reset_index()\n",
    "df_M_mal=df_M_mal.rename(columns={'level_1':'year', 0:'dead'})\n",
    "df_M_mal[['dead']]=df_M_mal[['dead']].astype(int)\n",
    "df_M_mal.dropna(inplace = True)\n",
    "df_M_mal.head(2)"
   ]
  },
  {
   "cell_type": "code",
   "execution_count": 17,
   "metadata": {},
   "outputs": [
    {
     "data": {
      "text/html": [
       "<div>\n",
       "<style scoped>\n",
       "    .dataframe tbody tr th:only-of-type {\n",
       "        vertical-align: middle;\n",
       "    }\n",
       "\n",
       "    .dataframe tbody tr th {\n",
       "        vertical-align: top;\n",
       "    }\n",
       "\n",
       "    .dataframe thead th {\n",
       "        text-align: right;\n",
       "    }\n",
       "</style>\n",
       "<table border=\"1\" class=\"dataframe\">\n",
       "  <thead>\n",
       "    <tr style=\"text-align: right;\">\n",
       "      <th></th>\n",
       "      <th>country</th>\n",
       "      <th>year</th>\n",
       "      <th>dead_cfl</th>\n",
       "      <th>no_school</th>\n",
       "      <th>hiv</th>\n",
       "      <th>malaria</th>\n",
       "    </tr>\n",
       "  </thead>\n",
       "  <tbody>\n",
       "    <tr>\n",
       "      <th>0</th>\n",
       "      <td>Angola</td>\n",
       "      <td>2001</td>\n",
       "      <td>1123</td>\n",
       "      <td>72,2</td>\n",
       "      <td>887.0</td>\n",
       "      <td>5650</td>\n",
       "    </tr>\n",
       "    <tr>\n",
       "      <th>1</th>\n",
       "      <td>Burundi</td>\n",
       "      <td>2000</td>\n",
       "      <td>1348</td>\n",
       "      <td>73,3</td>\n",
       "      <td>998.0</td>\n",
       "      <td>11900</td>\n",
       "    </tr>\n",
       "  </tbody>\n",
       "</table>\n",
       "</div>"
      ],
      "text/plain": [
       "   country  year  dead_cfl no_school    hiv  malaria\n",
       "0   Angola  2001      1123      72,2  887.0     5650\n",
       "1  Burundi  2000      1348      73,3  998.0    11900"
      ]
     },
     "execution_count": 17,
     "metadata": {},
     "output_type": "execute_result"
    }
   ],
   "source": [
    "df_combined = df_combined.merge(df_M_mal, left_on=['country', 'year'], right_on=['country', 'year'], how='inner')\n",
    "df_combined = df_combined.rename(columns={'dead':'malaria'})\n",
    "df_combined.head(2)"
   ]
  },
  {
   "cell_type": "markdown",
   "metadata": {},
   "source": [
    "DEATHS FOR MEASLES"
   ]
  },
  {
   "cell_type": "code",
   "execution_count": 18,
   "metadata": {},
   "outputs": [
    {
     "data": {
      "text/html": [
       "<div>\n",
       "<style scoped>\n",
       "    .dataframe tbody tr th:only-of-type {\n",
       "        vertical-align: middle;\n",
       "    }\n",
       "\n",
       "    .dataframe tbody tr th {\n",
       "        vertical-align: top;\n",
       "    }\n",
       "\n",
       "    .dataframe thead th {\n",
       "        text-align: right;\n",
       "    }\n",
       "</style>\n",
       "<table border=\"1\" class=\"dataframe\">\n",
       "  <thead>\n",
       "    <tr style=\"text-align: right;\">\n",
       "      <th></th>\n",
       "      <th>country</th>\n",
       "      <th>1990</th>\n",
       "      <th>1991</th>\n",
       "      <th>1992</th>\n",
       "      <th>1993</th>\n",
       "      <th>1994</th>\n",
       "      <th>1995</th>\n",
       "      <th>1996</th>\n",
       "      <th>1997</th>\n",
       "      <th>1998</th>\n",
       "      <th>...</th>\n",
       "      <th>2007</th>\n",
       "      <th>2008</th>\n",
       "      <th>2009</th>\n",
       "      <th>2010</th>\n",
       "      <th>2011</th>\n",
       "      <th>2012</th>\n",
       "      <th>2013</th>\n",
       "      <th>2014</th>\n",
       "      <th>2015</th>\n",
       "      <th>2016</th>\n",
       "    </tr>\n",
       "  </thead>\n",
       "  <tbody>\n",
       "    <tr>\n",
       "      <th>0</th>\n",
       "      <td>Afghanistan</td>\n",
       "      <td>18900.0</td>\n",
       "      <td>18500.0000</td>\n",
       "      <td>18500.0000</td>\n",
       "      <td>18700.0000</td>\n",
       "      <td>19200.0000</td>\n",
       "      <td>18800.0000</td>\n",
       "      <td>19600.00</td>\n",
       "      <td>19700.00</td>\n",
       "      <td>20300.00</td>\n",
       "      <td>...</td>\n",
       "      <td>3840.0000</td>\n",
       "      <td>5770.0000</td>\n",
       "      <td>7510.00000</td>\n",
       "      <td>18600.0000</td>\n",
       "      <td>22500.0000</td>\n",
       "      <td>21500.00000</td>\n",
       "      <td>6980.0000</td>\n",
       "      <td>3080.00000</td>\n",
       "      <td>1730.000</td>\n",
       "      <td>556.000</td>\n",
       "    </tr>\n",
       "    <tr>\n",
       "      <th>1</th>\n",
       "      <td>Albania</td>\n",
       "      <td>333.0</td>\n",
       "      <td>0.0239</td>\n",
       "      <td>0.0378</td>\n",
       "      <td>0.0192</td>\n",
       "      <td>0.0757</td>\n",
       "      <td>0.0347</td>\n",
       "      <td>2.68</td>\n",
       "      <td>5.03</td>\n",
       "      <td>3.77</td>\n",
       "      <td>...</td>\n",
       "      <td>0.0268</td>\n",
       "      <td>0.0248</td>\n",
       "      <td>0.00117</td>\n",
       "      <td>0.0104</td>\n",
       "      <td>0.0266</td>\n",
       "      <td>0.00831</td>\n",
       "      <td>0.0006</td>\n",
       "      <td>0.00233</td>\n",
       "      <td>0.167</td>\n",
       "      <td>0.166</td>\n",
       "    </tr>\n",
       "  </tbody>\n",
       "</table>\n",
       "<p>2 rows × 28 columns</p>\n",
       "</div>"
      ],
      "text/plain": [
       "       country     1990        1991        1992        1993        1994  \\\n",
       "0  Afghanistan  18900.0  18500.0000  18500.0000  18700.0000  19200.0000   \n",
       "1      Albania    333.0      0.0239      0.0378      0.0192      0.0757   \n",
       "\n",
       "         1995      1996      1997      1998   ...          2007       2008  \\\n",
       "0  18800.0000  19600.00  19700.00  20300.00   ...     3840.0000  5770.0000   \n",
       "1      0.0347      2.68      5.03      3.77   ...        0.0268     0.0248   \n",
       "\n",
       "         2009        2010        2011         2012       2013        2014  \\\n",
       "0  7510.00000  18600.0000  22500.0000  21500.00000  6980.0000  3080.00000   \n",
       "1     0.00117      0.0104      0.0266      0.00831     0.0006     0.00233   \n",
       "\n",
       "       2015     2016  \n",
       "0  1730.000  556.000  \n",
       "1     0.167    0.166  \n",
       "\n",
       "[2 rows x 28 columns]"
      ]
     },
     "execution_count": 18,
     "metadata": {},
     "output_type": "execute_result"
    }
   ],
   "source": [
    "df_M_mea.head(2)"
   ]
  },
  {
   "cell_type": "code",
   "execution_count": 19,
   "metadata": {
    "scrolled": false
   },
   "outputs": [],
   "source": [
    "# Unpivot the df, rename columns, change the data type and clear more \n",
    "df_M_mea=df_M_mea.set_index('country').stack().reset_index()\n",
    "df_M_mea=df_M_mea.rename(columns={'level_1':'year', 0:'dead'})\n",
    "# df_M_mea[['dead']]=df_esc[['dead']].astype(int)\n",
    "df_M_mea.dropna(inplace = True)"
   ]
  },
  {
   "cell_type": "code",
   "execution_count": 20,
   "metadata": {},
   "outputs": [
    {
     "data": {
      "text/html": [
       "<div>\n",
       "<style scoped>\n",
       "    .dataframe tbody tr th:only-of-type {\n",
       "        vertical-align: middle;\n",
       "    }\n",
       "\n",
       "    .dataframe tbody tr th {\n",
       "        vertical-align: top;\n",
       "    }\n",
       "\n",
       "    .dataframe thead th {\n",
       "        text-align: right;\n",
       "    }\n",
       "</style>\n",
       "<table border=\"1\" class=\"dataframe\">\n",
       "  <thead>\n",
       "    <tr style=\"text-align: right;\">\n",
       "      <th></th>\n",
       "      <th>country</th>\n",
       "      <th>year</th>\n",
       "      <th>dead_cfl</th>\n",
       "      <th>no_school</th>\n",
       "      <th>hiv</th>\n",
       "      <th>malaria</th>\n",
       "      <th>measles</th>\n",
       "    </tr>\n",
       "  </thead>\n",
       "  <tbody>\n",
       "    <tr>\n",
       "      <th>0</th>\n",
       "      <td>Angola</td>\n",
       "      <td>2001</td>\n",
       "      <td>1123</td>\n",
       "      <td>72,2</td>\n",
       "      <td>887.0</td>\n",
       "      <td>5650</td>\n",
       "      <td>7930.0</td>\n",
       "    </tr>\n",
       "    <tr>\n",
       "      <th>1</th>\n",
       "      <td>Burundi</td>\n",
       "      <td>2000</td>\n",
       "      <td>1348</td>\n",
       "      <td>73,3</td>\n",
       "      <td>998.0</td>\n",
       "      <td>11900</td>\n",
       "      <td>2440.0</td>\n",
       "    </tr>\n",
       "  </tbody>\n",
       "</table>\n",
       "</div>"
      ],
      "text/plain": [
       "   country  year  dead_cfl no_school    hiv  malaria  measles\n",
       "0   Angola  2001      1123      72,2  887.0     5650   7930.0\n",
       "1  Burundi  2000      1348      73,3  998.0    11900   2440.0"
      ]
     },
     "execution_count": 20,
     "metadata": {},
     "output_type": "execute_result"
    }
   ],
   "source": [
    "df_combined = df_combined.merge(df_M_mea, left_on=['country', 'year'], right_on=['country', 'year'], how='inner')\n",
    "df_combined = df_combined.rename(columns={'dead':'measles'})\n",
    "df_combined.head(2)"
   ]
  },
  {
   "cell_type": "markdown",
   "metadata": {},
   "source": [
    "MUERTES POR MENINGITIS"
   ]
  },
  {
   "cell_type": "code",
   "execution_count": 21,
   "metadata": {},
   "outputs": [
    {
     "data": {
      "text/html": [
       "<div>\n",
       "<style scoped>\n",
       "    .dataframe tbody tr th:only-of-type {\n",
       "        vertical-align: middle;\n",
       "    }\n",
       "\n",
       "    .dataframe tbody tr th {\n",
       "        vertical-align: top;\n",
       "    }\n",
       "\n",
       "    .dataframe thead th {\n",
       "        text-align: right;\n",
       "    }\n",
       "</style>\n",
       "<table border=\"1\" class=\"dataframe\">\n",
       "  <thead>\n",
       "    <tr style=\"text-align: right;\">\n",
       "      <th></th>\n",
       "      <th>country</th>\n",
       "      <th>year</th>\n",
       "      <th>dead</th>\n",
       "    </tr>\n",
       "  </thead>\n",
       "  <tbody>\n",
       "    <tr>\n",
       "      <th>0</th>\n",
       "      <td>Afghanistan</td>\n",
       "      <td>1990</td>\n",
       "      <td>18900.0</td>\n",
       "    </tr>\n",
       "    <tr>\n",
       "      <th>1</th>\n",
       "      <td>Afghanistan</td>\n",
       "      <td>1991</td>\n",
       "      <td>18500.0</td>\n",
       "    </tr>\n",
       "  </tbody>\n",
       "</table>\n",
       "</div>"
      ],
      "text/plain": [
       "       country  year     dead\n",
       "0  Afghanistan  1990  18900.0\n",
       "1  Afghanistan  1991  18500.0"
      ]
     },
     "execution_count": 21,
     "metadata": {},
     "output_type": "execute_result"
    }
   ],
   "source": [
    "df_M_mea.head(2)"
   ]
  },
  {
   "cell_type": "code",
   "execution_count": 22,
   "metadata": {
    "scrolled": true
   },
   "outputs": [],
   "source": [
    "# Unpivot the df, rename columns, change the data type and clear more \n",
    "df_M_men=df_M_mea.set_index('country').stack().reset_index()\n",
    "df_M_men=df_M_mea.rename(columns={'level_1':'year', 0:'dead'})\n",
    "df_M_men[['dead']]=df_M_men[['dead']].astype(int)\n",
    "df_M_men.dropna(inplace = True)"
   ]
  },
  {
   "cell_type": "code",
   "execution_count": 23,
   "metadata": {},
   "outputs": [
    {
     "data": {
      "text/html": [
       "<div>\n",
       "<style scoped>\n",
       "    .dataframe tbody tr th:only-of-type {\n",
       "        vertical-align: middle;\n",
       "    }\n",
       "\n",
       "    .dataframe tbody tr th {\n",
       "        vertical-align: top;\n",
       "    }\n",
       "\n",
       "    .dataframe thead th {\n",
       "        text-align: right;\n",
       "    }\n",
       "</style>\n",
       "<table border=\"1\" class=\"dataframe\">\n",
       "  <thead>\n",
       "    <tr style=\"text-align: right;\">\n",
       "      <th></th>\n",
       "      <th>country</th>\n",
       "      <th>year</th>\n",
       "      <th>dead_cfl</th>\n",
       "      <th>no_school</th>\n",
       "      <th>hiv</th>\n",
       "      <th>malaria</th>\n",
       "      <th>measles</th>\n",
       "      <th>meningitis</th>\n",
       "    </tr>\n",
       "  </thead>\n",
       "  <tbody>\n",
       "    <tr>\n",
       "      <th>0</th>\n",
       "      <td>Angola</td>\n",
       "      <td>2001</td>\n",
       "      <td>1123</td>\n",
       "      <td>72,2</td>\n",
       "      <td>887.0</td>\n",
       "      <td>5650</td>\n",
       "      <td>7930.0</td>\n",
       "      <td>7930.0</td>\n",
       "    </tr>\n",
       "    <tr>\n",
       "      <th>1</th>\n",
       "      <td>Burundi</td>\n",
       "      <td>2000</td>\n",
       "      <td>1348</td>\n",
       "      <td>73,3</td>\n",
       "      <td>998.0</td>\n",
       "      <td>11900</td>\n",
       "      <td>2440.0</td>\n",
       "      <td>2440.0</td>\n",
       "    </tr>\n",
       "  </tbody>\n",
       "</table>\n",
       "</div>"
      ],
      "text/plain": [
       "   country  year  dead_cfl no_school    hiv  malaria  measles  meningitis\n",
       "0   Angola  2001      1123      72,2  887.0     5650   7930.0      7930.0\n",
       "1  Burundi  2000      1348      73,3  998.0    11900   2440.0      2440.0"
      ]
     },
     "execution_count": 23,
     "metadata": {},
     "output_type": "execute_result"
    }
   ],
   "source": [
    "df_combined = df_combined.merge(df_M_mea, left_on=['country', 'year'], right_on=['country', 'year'], how='inner')\n",
    "df_combined = df_combined.rename(columns={'dead':'meningitis'})\n",
    "df_combined.head(2)"
   ]
  },
  {
   "cell_type": "markdown",
   "metadata": {},
   "source": [
    "MUERTES POR OTHERS INFECTIONS"
   ]
  },
  {
   "cell_type": "code",
   "execution_count": 24,
   "metadata": {
    "scrolled": true
   },
   "outputs": [
    {
     "data": {
      "text/html": [
       "<div>\n",
       "<style scoped>\n",
       "    .dataframe tbody tr th:only-of-type {\n",
       "        vertical-align: middle;\n",
       "    }\n",
       "\n",
       "    .dataframe tbody tr th {\n",
       "        vertical-align: top;\n",
       "    }\n",
       "\n",
       "    .dataframe thead th {\n",
       "        text-align: right;\n",
       "    }\n",
       "</style>\n",
       "<table border=\"1\" class=\"dataframe\">\n",
       "  <thead>\n",
       "    <tr style=\"text-align: right;\">\n",
       "      <th></th>\n",
       "      <th>country</th>\n",
       "      <th>2008</th>\n",
       "    </tr>\n",
       "  </thead>\n",
       "  <tbody>\n",
       "    <tr>\n",
       "      <th>0</th>\n",
       "      <td>Afghanistan</td>\n",
       "      <td>48800</td>\n",
       "    </tr>\n",
       "    <tr>\n",
       "      <th>1</th>\n",
       "      <td>Albania</td>\n",
       "      <td>99</td>\n",
       "    </tr>\n",
       "  </tbody>\n",
       "</table>\n",
       "</div>"
      ],
      "text/plain": [
       "       country   2008\n",
       "0  Afghanistan  48800\n",
       "1      Albania     99"
      ]
     },
     "execution_count": 24,
     "metadata": {},
     "output_type": "execute_result"
    }
   ],
   "source": [
    "df_M_oth.head(2)"
   ]
  },
  {
   "cell_type": "markdown",
   "metadata": {},
   "source": [
    "Exclude deaths due to others infections due to lack of data. Only to seem in the 2008 source"
   ]
  },
  {
   "cell_type": "markdown",
   "metadata": {},
   "source": [
    "MUERTES POR PERTUSSIS"
   ]
  },
  {
   "cell_type": "code",
   "execution_count": 25,
   "metadata": {
    "scrolled": true
   },
   "outputs": [
    {
     "data": {
      "text/html": [
       "<div>\n",
       "<style scoped>\n",
       "    .dataframe tbody tr th:only-of-type {\n",
       "        vertical-align: middle;\n",
       "    }\n",
       "\n",
       "    .dataframe tbody tr th {\n",
       "        vertical-align: top;\n",
       "    }\n",
       "\n",
       "    .dataframe thead th {\n",
       "        text-align: right;\n",
       "    }\n",
       "</style>\n",
       "<table border=\"1\" class=\"dataframe\">\n",
       "  <thead>\n",
       "    <tr style=\"text-align: right;\">\n",
       "      <th></th>\n",
       "      <th>country</th>\n",
       "      <th>2008</th>\n",
       "    </tr>\n",
       "  </thead>\n",
       "  <tbody>\n",
       "    <tr>\n",
       "      <th>0</th>\n",
       "      <td>Afghanistan</td>\n",
       "      <td>1090</td>\n",
       "    </tr>\n",
       "    <tr>\n",
       "      <th>1</th>\n",
       "      <td>Albania</td>\n",
       "      <td>0</td>\n",
       "    </tr>\n",
       "  </tbody>\n",
       "</table>\n",
       "</div>"
      ],
      "text/plain": [
       "       country  2008\n",
       "0  Afghanistan  1090\n",
       "1      Albania     0"
      ]
     },
     "execution_count": 25,
     "metadata": {},
     "output_type": "execute_result"
    }
   ],
   "source": [
    "df_M_per.head(2)"
   ]
  },
  {
   "cell_type": "markdown",
   "metadata": {},
   "source": [
    "Exclude deaths due to others infections due to lack of data. Only to seem in the 2008 source"
   ]
  },
  {
   "cell_type": "markdown",
   "metadata": {},
   "source": [
    "MUERTES POR NEUMONÍA"
   ]
  },
  {
   "cell_type": "code",
   "execution_count": 26,
   "metadata": {},
   "outputs": [
    {
     "data": {
      "text/html": [
       "<div>\n",
       "<style scoped>\n",
       "    .dataframe tbody tr th:only-of-type {\n",
       "        vertical-align: middle;\n",
       "    }\n",
       "\n",
       "    .dataframe tbody tr th {\n",
       "        vertical-align: top;\n",
       "    }\n",
       "\n",
       "    .dataframe thead th {\n",
       "        text-align: right;\n",
       "    }\n",
       "</style>\n",
       "<table border=\"1\" class=\"dataframe\">\n",
       "  <thead>\n",
       "    <tr style=\"text-align: right;\">\n",
       "      <th></th>\n",
       "      <th>country</th>\n",
       "      <th>2008</th>\n",
       "    </tr>\n",
       "  </thead>\n",
       "  <tbody>\n",
       "    <tr>\n",
       "      <th>0</th>\n",
       "      <td>Afghanistan</td>\n",
       "      <td>72700</td>\n",
       "    </tr>\n",
       "    <tr>\n",
       "      <th>1</th>\n",
       "      <td>Albania</td>\n",
       "      <td>106</td>\n",
       "    </tr>\n",
       "  </tbody>\n",
       "</table>\n",
       "</div>"
      ],
      "text/plain": [
       "       country   2008\n",
       "0  Afghanistan  72700\n",
       "1      Albania    106"
      ]
     },
     "execution_count": 26,
     "metadata": {},
     "output_type": "execute_result"
    }
   ],
   "source": [
    "df_M_neu.head(2)"
   ]
  },
  {
   "cell_type": "markdown",
   "metadata": {
    "scrolled": false
   },
   "source": [
    "Exclude deaths due to others infections due to lack of data. Only to seem in the 2008 source"
   ]
  },
  {
   "cell_type": "markdown",
   "metadata": {},
   "source": [
    "#### Data types are changed to numeric"
   ]
  },
  {
   "cell_type": "code",
   "execution_count": 27,
   "metadata": {},
   "outputs": [
    {
     "data": {
      "text/plain": [
       "country        object\n",
       "year            int32\n",
       "dead_cfl        int32\n",
       "no_school     float64\n",
       "hiv           float64\n",
       "malaria         int32\n",
       "measles       float64\n",
       "meningitis    float64\n",
       "dtype: object"
      ]
     },
     "execution_count": 27,
     "metadata": {},
     "output_type": "execute_result"
    }
   ],
   "source": [
    "df_combined = df_combined.astype({'year':'int'})\n",
    "df_combined.no_school = pd.to_numeric(df_combined.no_school, errors='coerce')\n",
    "df_combined.dtypes"
   ]
  },
  {
   "cell_type": "markdown",
   "metadata": {},
   "source": [
    "## ANSWERING QUESTIONS"
   ]
  },
  {
   "cell_type": "markdown",
   "metadata": {},
   "source": [
    "<a id='1'></a>\n",
    "### 1. The 10 countries with the highest average of conflicts?"
   ]
  },
  {
   "cell_type": "code",
   "execution_count": 28,
   "metadata": {
    "scrolled": false
   },
   "outputs": [
    {
     "data": {
      "text/plain": [
       "country\n",
       "Sri Lanka      3792.000000\n",
       "Pakistan       2732.500000\n",
       "Sudan          2122.500000\n",
       "Libya          1930.000000\n",
       "India          1891.666667\n",
       "Angola         1123.000000\n",
       "Philippines    1102.500000\n",
       "Burundi         774.500000\n",
       "Colombia        603.000000\n",
       "Uganda          592.333333\n",
       "Name: dead_cfl, dtype: float64"
      ]
     },
     "execution_count": 28,
     "metadata": {},
     "output_type": "execute_result"
    }
   ],
   "source": [
    "df_dead_cfl = df_combined.groupby('country').dead_cfl.mean()\n",
    "df_dead_cfl = df_dead_cfl.sort_values(ascending=[False]).head(10)\n",
    "df_dead_cfl"
   ]
  },
  {
   "cell_type": "code",
   "execution_count": 32,
   "metadata": {
    "scrolled": true
   },
   "outputs": [
    {
     "data": {
      "text/plain": [
       "<BarContainer object of 10 artists>"
      ]
     },
     "execution_count": 32,
     "metadata": {},
     "output_type": "execute_result"
    },
    {
     "data": {
      "image/png": "[encoded data removed]",
      "text/plain": [
       "<Figure size 1080x360 with 1 Axes>"
      ]
     },
     "metadata": {
      "needs_background": "light"
     },
     "output_type": "display_data"
    }
   ],
   "source": [
    "fig, axs = plt.subplots(1, figsize=(15, 5), sharey=True)\n",
    "axs.bar(df_dead_cfl.keys(),df_dead_cfl.values)"
   ]
  },
  {
   "cell_type": "markdown",
   "metadata": {},
   "source": [
    "<a id='2'></a>\n",
    "###  2. How many children are not schooled because of conflicts?"
   ]
  },
  {
   "cell_type": "code",
   "execution_count": 45,
   "metadata": {},
   "outputs": [
    {
     "data": {
      "text/plain": [
       "country\n",
       "Ethiopia      55.0\n",
       "Mauritania    69.0\n",
       "Nepal         70.0\n",
       "Guatemala     76.0\n",
       "Malta         96.0\n",
       "Colombia      97.8\n",
       "Sri Lanka     98.0\n",
       "Thailand      98.0\n",
       "Algeria        NaN\n",
       "Angola         NaN\n",
       "Name: no_school, dtype: float64"
      ]
     },
     "execution_count": 45,
     "metadata": {},
     "output_type": "execute_result"
    }
   ],
   "source": [
    "df_no_school = df_combined.groupby('country').no_school.mean()\n",
    "df_no_school = df_no_school.sort_values(ascending=[True]).head(10)\n",
    "df_no_school"
   ]
  },
  {
   "cell_type": "code",
   "execution_count": 46,
   "metadata": {},
   "outputs": [
    {
     "data": {
      "text/plain": [
       "<BarContainer object of 10 artists>"
      ]
     },
     "execution_count": 46,
     "metadata": {},
     "output_type": "execute_result"
    },
    {
     "data": {
      "image/png": "[encoded data removed]",
      "text/plain": [
       "<Figure size 1080x360 with 1 Axes>"
      ]
     },
     "metadata": {
      "needs_background": "light"
     },
     "output_type": "display_data"
    }
   ],
   "source": [
    "fig, axs = plt.subplots(1, figsize=(15, 5), sharey=True)\n",
    "axs.bar(df_no_school.keys(),df_no_school.values)"
   ]
  },
  {
   "cell_type": "markdown",
   "metadata": {},
   "source": [
    "We see how Ethiopia has the lowest enrollment rate and Guatemala in America."
   ]
  },
  {
   "cell_type": "markdown",
   "metadata": {},
   "source": [
    "<a id='3'></a>\n",
    "### 3. What diseases are due to the lack of schooling?"
   ]
  },
  {
   "cell_type": "markdown",
   "metadata": {},
   "source": [
    "### HIV"
   ]
  },
  {
   "cell_type": "code",
   "execution_count": 48,
   "metadata": {
    "scrolled": true
   },
   "outputs": [
    {
     "data": {
      "text/plain": [
       "country\n",
       "Uganda              8536.666667\n",
       "Kenya               7330.000000\n",
       "Ethiopia            5747.500000\n",
       "India               4875.666667\n",
       "Congo, Dem. Rep.    4210.000000\n",
       "Cote d'Ivoire       1500.000000\n",
       "Rwanda               952.000000\n",
       "Chad                 928.333333\n",
       "Angola               887.000000\n",
       "Burundi              860.000000\n",
       "Name: hiv, dtype: float64"
      ]
     },
     "execution_count": 48,
     "metadata": {},
     "output_type": "execute_result"
    }
   ],
   "source": [
    "df_hiv = df_combined.groupby('country').hiv.mean()\n",
    "df_hiv = df_hiv.sort_values(ascending=[False]).head(10)\n",
    "df_hiv"
   ]
  },
  {
   "cell_type": "code",
   "execution_count": 50,
   "metadata": {
    "scrolled": false
   },
   "outputs": [
    {
     "data": {
      "text/plain": [
       "<BarContainer object of 10 artists>"
      ]
     },
     "execution_count": 50,
     "metadata": {},
     "output_type": "execute_result"
    },
    {
     "data": {
      "image/png": "[encoded data removed]",
      "text/plain": [
       "<Figure size 1080x360 with 1 Axes>"
      ]
     },
     "metadata": {
      "needs_background": "light"
     },
     "output_type": "display_data"
    }
   ],
   "source": [
    "fig, axs = plt.subplots(1, figsize=(15, 5), sharey=True)\n",
    "axs.bar(df_hiv.keys(),df_hiv.values)"
   ]
  },
  {
   "cell_type": "markdown",
   "metadata": {},
   "source": [
    "### MALARIA"
   ]
  },
  {
   "cell_type": "code",
   "execution_count": 51,
   "metadata": {
    "scrolled": true
   },
   "outputs": [
    {
     "data": {
      "text/plain": [
       "country\n",
       "Congo, Dem. Rep.    89200.000000\n",
       "Uganda              47266.666667\n",
       "India               37633.333333\n",
       "Cote d'Ivoire       22000.000000\n",
       "Mali                20000.000000\n",
       "Ethiopia             9350.000000\n",
       "Burundi              9040.000000\n",
       "Rwanda               6590.000000\n",
       "Angola               5650.000000\n",
       "Kenya                5460.000000\n",
       "Name: malaria, dtype: float64"
      ]
     },
     "execution_count": 51,
     "metadata": {},
     "output_type": "execute_result"
    }
   ],
   "source": [
    "df_malaria = df_combined.groupby('country').malaria.mean()\n",
    "df_malaria = df_malaria.sort_values(ascending=[False]).head(10)\n",
    "df_malaria"
   ]
  },
  {
   "cell_type": "code",
   "execution_count": 52,
   "metadata": {
    "scrolled": true
   },
   "outputs": [
    {
     "data": {
      "text/plain": [
       "<BarContainer object of 10 artists>"
      ]
     },
     "execution_count": 52,
     "metadata": {},
     "output_type": "execute_result"
    },
    {
     "data": {
      "image/png": "[encoded data removed]",
      "text/plain": [
       "<Figure size 1080x360 with 1 Axes>"
      ]
     },
     "metadata": {
      "needs_background": "light"
     },
     "output_type": "display_data"
    }
   ],
   "source": [
    "fig, axs = plt.subplots(1, figsize=(15, 5), sharey=True)\n",
    "axs.bar(df_malaria.keys(),df_malaria.values)"
   ]
  },
  {
   "cell_type": "markdown",
   "metadata": {},
   "source": [
    "### MEASLES"
   ]
  },
  {
   "cell_type": "code",
   "execution_count": 53,
   "metadata": {},
   "outputs": [
    {
     "data": {
      "text/plain": [
       "country\n",
       "India               148566.666667\n",
       "Ethiopia             31550.000000\n",
       "Indonesia            20350.000000\n",
       "Bangladesh           15200.000000\n",
       "Pakistan             14547.500000\n",
       "Angola                7930.000000\n",
       "Chad                  6410.000000\n",
       "Congo, Dem. Rep.      5300.000000\n",
       "Rwanda                4760.000000\n",
       "Sudan                 3785.000000\n",
       "Name: measles, dtype: float64"
      ]
     },
     "execution_count": 53,
     "metadata": {},
     "output_type": "execute_result"
    }
   ],
   "source": [
    "df_measles = df_combined.groupby('country').measles.mean()\n",
    "df_measles = df_measles.sort_values(ascending=[False]).head(10)\n",
    "df_measles"
   ]
  },
  {
   "cell_type": "code",
   "execution_count": 54,
   "metadata": {
    "scrolled": true
   },
   "outputs": [
    {
     "data": {
      "text/plain": [
       "<BarContainer object of 10 artists>"
      ]
     },
     "execution_count": 54,
     "metadata": {},
     "output_type": "execute_result"
    },
    {
     "data": {
      "image/png": "[encoded data removed]",
      "text/plain": [
       "<Figure size 1080x360 with 1 Axes>"
      ]
     },
     "metadata": {
      "needs_background": "light"
     },
     "output_type": "display_data"
    }
   ],
   "source": [
    "fig, axs = plt.subplots(1, figsize=(15, 5), sharey=True)\n",
    "axs.bar(df_measles.keys(),df_measles.values)"
   ]
  },
  {
   "cell_type": "markdown",
   "metadata": {},
   "source": [
    "### MENINGITIS"
   ]
  },
  {
   "cell_type": "code",
   "execution_count": 55,
   "metadata": {},
   "outputs": [
    {
     "data": {
      "text/plain": [
       "country\n",
       "India               148566.666667\n",
       "Ethiopia             31550.000000\n",
       "Indonesia            20350.000000\n",
       "Bangladesh           15200.000000\n",
       "Pakistan             14547.500000\n",
       "Angola                7930.000000\n",
       "Chad                  6410.000000\n",
       "Congo, Dem. Rep.      5300.000000\n",
       "Rwanda                4760.000000\n",
       "Sudan                 3785.000000\n",
       "Name: meningitis, dtype: float64"
      ]
     },
     "execution_count": 55,
     "metadata": {},
     "output_type": "execute_result"
    }
   ],
   "source": [
    "df_meningitis = df_combined.groupby('country').meningitis.mean()\n",
    "df_meningitis = df_meningitis.sort_values(ascending=[False]).head(10)\n",
    "df_meningitis"
   ]
  },
  {
   "cell_type": "code",
   "execution_count": 56,
   "metadata": {},
   "outputs": [
    {
     "data": {
      "text/plain": [
       "<BarContainer object of 10 artists>"
      ]
     },
     "execution_count": 56,
     "metadata": {},
     "output_type": "execute_result"
    },
    {
     "data": {
      "image/png": "[encoded data removed]",
      "text/plain": [
       "<Figure size 1080x360 with 1 Axes>"
      ]
     },
     "metadata": {
      "needs_background": "light"
     },
     "output_type": "display_data"
    }
   ],
   "source": [
    "fig, axs = plt.subplots(1, figsize=(15, 5), sharey=True)\n",
    "axs.bar(df_meningitis.keys(),df_meningitis.values)"
   ]
  },
  {
   "cell_type": "markdown",
   "metadata": {},
   "source": [
    "We confirm that in those countries where there have been conflicts, the schooling rate is lower and certain diseases cause child deaths. Sobre todo en países del llamado Cuerno de África.\n",
    "#### \"The Horn of Africa is a region continuously in crisis. Ethiopia occupies a predominant position in the Horn due to its demographic importance: about 85% of the population of that area lives there. However, the history of Ethiopia is to a large extent marked by conflicts between ethnic groups living from resources and space, as well as between nationalism and Marxism-Leninism in modern times. The rest of the region also faces ongoing wars: a civil war erupted in Somalia in 1986, so the country has not had any national government in operation since 1991.\" https://es.wikipedia.org/wiki/Conflictos_en_el_Cuerno_de_%C3%81frica"
   ]
  },
  {
   "cell_type": "markdown",
   "metadata": {},
   "source": [
    "<a id='conclusions'></a>\n",
    "## Conclusions\n",
    "\n",
    "> It is found that conflicts cause lack of schooling and in turn, this causes certain diseases in childhood with cause of death. \n",
    "> We must be aware of the importance of children growing up in peace and receiving minimal schooling so that they grow up healthy and educate their children also in peace."
   ]
  }
 ],
 "metadata": {
  "kernelspec": {
   "display_name": "Python 3",
   "language": "python",
   "name": "python3"
  },
  "language_info": {
   "codemirror_mode": {
    "name": "ipython",
    "version": 3
   },
   "file_extension": ".py",
   "mimetype": "text/x-python",
   "name": "python",
   "nbconvert_exporter": "python",
   "pygments_lexer": "ipython3",
   "version": "3.7.1"
  }
 },
 "nbformat": 4,
 "nbformat_minor": 2
}
